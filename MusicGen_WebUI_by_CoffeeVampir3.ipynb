{
  "nbformat": 4,
  "nbformat_minor": 0,
  "metadata": {
    "colab": {
      "provenance": [],
      "gpuType": "T4"
    },
    "kernelspec": {
      "name": "python3",
      "display_name": "Python 3"
    },
    "language_info": {
      "name": "python"
    },
    "accelerator": "GPU"
  },
  "cells": [
    {
      "cell_type": "code",
      "execution_count": null,
      "metadata": {
        "id": "hfPolyhFA9EH"
      },
      "outputs": [],
      "source": [
        "#@markdown # Installation\n",
        "\n",
        "!git clone https://github.com/CoffeeVampir3/audiocraft-webui.git\n",
        "%pip install 'torch>=2.0'\n",
        "%cd audiocraft-webui\n",
        "%pip install -r requirements.txt\n",
        "%pip install pyngrok"
      ]
    },
    {
      "cell_type": "markdown",
      "source": [
        "# New Section"
      ],
      "metadata": {
        "id": "dJhKJDCfs3pP"
      }
    },
    {
      "cell_type": "code",
      "source": [
        "#@markdown # Start WebUI\n",
        "from pyngrok import ngrok, conf\n",
        "import fileinput\n",
        "import sys\n",
        "\n",
        "Ngrok_token = \"\" #@param {type:\"string\"}\n",
        "#@markdown - Add ngrok token (required)\n",
        "\n",
        "share=''\n",
        "if Ngrok_token!=\"\":\n",
        "  ngrok.kill()\n",
        "  srv=ngrok.connect(5000, pyngrok_config=conf.PyngrokConfig(auth_token=Ngrok_token),\n",
        "                    bind_tls=True).public_url\n",
        "  print(srv)\n",
        "else:\n",
        "  share='--share'\n",
        "\n",
        "!python webui.py $share"
      ],
      "metadata": {
        "id": "C87CVSJEB8Rx"
      },
      "execution_count": null,
      "outputs": []
    }
  ]
}