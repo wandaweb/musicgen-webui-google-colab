{
  "nbformat": 4,
  "nbformat_minor": 0,
  "metadata": {
    "colab": {
      "provenance": [],
      "gpuType": "T4"
    },
    "kernelspec": {
      "name": "python3",
      "display_name": "Python 3"
    },
    "language_info": {
      "name": "python"
    },
    "accelerator": "GPU"
  },
  "cells": [
    {
      "cell_type": "markdown",
      "source": [
        "This is a Colab notebook for the Gradio demo of MusicGen. You can find the code on the official repository: https://github.com/facebookresearch/audiocraft"
      ],
      "metadata": {
        "id": "x9lG9kkS6O1Y"
      }
    },
    {
      "cell_type": "code",
      "execution_count": null,
      "metadata": {
        "id": "JCl7iL7i5eMG"
      },
      "outputs": [],
      "source": [
        "!pip install -q -U audiocraft\n",
        "\n",
        "%cd /content\n",
        "!git clone https://github.com/facebookresearch/audiocraft\n",
        "\n",
        "#@markdown Wait for the line that starts with \"Running on public URL: \" in the output and click the gradio.live link.\n",
        "\n",
        "%cd /content/audiocraft\n",
        "!python demos/musicgen_app.py --share"
      ]
    }
  ]
}