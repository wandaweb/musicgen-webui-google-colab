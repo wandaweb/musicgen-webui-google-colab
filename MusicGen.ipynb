{
  "cells": [
    {
      "cell_type": "code",
      "execution_count": null,
      "metadata": {
        "colab": {
          "base_uri": "https://localhost:8080/",
          "height": 1000
        },
        "id": "AZwJFPFk4qg9",
        "outputId": "1c01dddb-b098-45f8-a3b4-ede666f94285"
      },
      "outputs": [],
      "source": [
        "#@markdown # Installation\n",
        "\n",
        "\n",
        "!git clone https://github.com/1aienthusiast/audiocraft-infinity-webui.git\n",
        "%pip install 'torch>=2.0'\n",
        "%cd audiocraft-infinity-webui\n",
        "%pwd\n",
        "%pip install -r requirements.txt\n",
        "%cd repositories\n",
        "!git clone https://github.com/1aienthusiast/audiocraft\n",
        "!git clone https://github.com/chavinlo/musicgen_trainer\n",
        "%cd ..\n",
        "%pip install pyngrok\n"
      ]
    },
    {
      "cell_type": "code",
      "execution_count": null,
      "metadata": {
        "id": "vq4t1t7RyWF6"
      },
      "outputs": [],
      "source": []
    },
    {
      "cell_type": "code",
      "execution_count": null,
      "metadata": {
        "id": "p1zJtf97PWNW"
      },
      "outputs": [],
      "source": [
        "#@markdown # Start WebUI\n",
        "from pyngrok import ngrok, conf\n",
        "import fileinput\n",
        "import sys\n",
        "\n",
        "Ngrok_token = \"\" #@param {type:\"string\"}\n",
        "#@markdown - Add ngrok token (optional)\n",
        "#@markdown - Makes it possible to view the result from the webui\n",
        "\n",
        "share=''\n",
        "if Ngrok_token!=\"\":\n",
        "  ngrok.kill()\n",
        "  srv=ngrok.connect(7860, pyngrok_config=conf.PyngrokConfig(auth_token=Ngrok_token) , bind_tls=True).public_url\n",
        "  print(srv)\n",
        "else:\n",
        "  share='--share'\n",
        "\n",
        "!python webui.py $share"
      ]
    }
  ],
  "metadata": {
    "accelerator": "GPU",
    "colab": {
      "gpuType": "T4",
      "provenance": []
    },
    "kernelspec": {
      "display_name": "Python 3",
      "name": "python3"
    },
    "language_info": {
      "name": "python"
    }
  },
  "nbformat": 4,
  "nbformat_minor": 0
}
